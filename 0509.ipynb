{
  "nbformat": 4,
  "nbformat_minor": 0,
  "metadata": {
    "colab": {
      "name": "0509.ipynb",
      "provenance": [],
      "authorship_tag": "ABX9TyNvZpfFfjIkVY234D93IaqM",
      "include_colab_link": true
    },
    "kernelspec": {
      "name": "python3",
      "display_name": "Python 3"
    },
    "language_info": {
      "name": "python"
    }
  },
  "cells": [
    {
      "cell_type": "markdown",
      "metadata": {
        "id": "view-in-github",
        "colab_type": "text"
      },
      "source": [
        "<a href=\"https://colab.research.google.com/github/CC6133/0509/blob/main/0509.ipynb\" target=\"_parent\"><img src=\"https://colab.research.google.com/assets/colab-badge.svg\" alt=\"Open In Colab\"/></a>"
      ]
    },
    {
      "cell_type": "code",
      "execution_count": null,
      "metadata": {
        "colab": {
          "base_uri": "https://localhost:8080/"
        },
        "id": "xeAEi-ny7-X6",
        "outputId": "91c729e4-aac7-4a45-bdd7-5224485420cd"
      },
      "outputs": [
        {
          "output_type": "stream",
          "name": "stdout",
          "text": [
            "請輸入你的體溫26\n",
            "體溫異常,請重新測量!\n"
          ]
        }
      ],
      "source": [
        "temp=float(input('請輸入你的體溫'))\n",
        "if temp >= 37.5:\n",
        "  print('體溫過高!')\n",
        "elif temp >= 37 and temp < 37.4:\n",
        "  print('體溫略高!')\n",
        "elif temp >= 34 and temp < 36.9:\n",
        "  print('體溫正常!')\n",
        "else:\n",
        "  print('體溫異常,請重新測量!')"
      ]
    },
    {
      "cell_type": "code",
      "source": [
        "score=input('請輸入成績')\n",
        "if (int(score) >= 90):\n",
        "  print('A')\n",
        "elif (int(score) >= 80):\n",
        "  print('B')\n",
        "elif (int(score) >= 70):\n",
        "  print('C')\n",
        "elif (int(score) >= 60):\n",
        "  print('D')\n",
        "else:\n",
        "  print('E')"
      ],
      "metadata": {
        "colab": {
          "base_uri": "https://localhost:8080/"
        },
        "id": "TCAiMhkz_lqL",
        "outputId": "82c7f15a-c210-40a5-8ad0-fcf6d6f10fdf"
      },
      "execution_count": null,
      "outputs": [
        {
          "output_type": "stream",
          "name": "stdout",
          "text": [
            "請輸入成績85\n",
            "B\n"
          ]
        }
      ]
    },
    {
      "cell_type": "code",
      "source": [
        "money=int(input('請輸入購物金額:'))\n",
        "if (money>=10000):\n",
        "  if(money>=100000):\n",
        "    print('八折',money*0.8,end='元\\n')\n",
        "  elif(money>=50000):\n",
        "    print('八五折',money*0.85,end='元\\n')\n",
        "  elif(money>=30000):\n",
        "    print('九折',money*0.9,end='元\\n')\n",
        "  else:\n",
        "    print('九五折',money*0.95,end='元\\n')\n",
        "else:\n",
        "  print('沒打折')"
      ],
      "metadata": {
        "colab": {
          "base_uri": "https://localhost:8080/"
        },
        "id": "xcrzMuh3EpKT",
        "outputId": "cb958231-b329-45b5-e8a7-f6c7cfa3b4f5"
      },
      "execution_count": null,
      "outputs": [
        {
          "output_type": "stream",
          "name": "stdout",
          "text": [
            "請輸入購物金額:10005\n",
            "九五折 9504.75元\n"
          ]
        }
      ]
    },
    {
      "cell_type": "code",
      "source": [
        "season=(input('請輸入月份:'))\n",
        "if season>=3 and season<=5:\n",
        "  print(season'月是春天!')\n",
        "elif season>=6 and season<=8:\n",
        "  print(season'月是夏天!')\n",
        "elif season>=9 and season<=11:\n",
        "  print(season'月是秋天!')\n",
        "elif (season=12 and season=1 and season=2):\n",
        "  print(season'月是冬天!')\n",
        "else:\n",
        "  print('月份不在範圍內!')"
      ],
      "metadata": {
        "id": "I_3InAW1HXAB",
        "colab": {
          "base_uri": "https://localhost:8080/",
          "height": 132
        },
        "outputId": "d2b51e69-1f83-4575-c695-6d97445da316"
      },
      "execution_count": null,
      "outputs": [
        {
          "output_type": "error",
          "ename": "SyntaxError",
          "evalue": "ignored",
          "traceback": [
            "\u001b[0;36m  File \u001b[0;32m\"<ipython-input-10-76860e22b3c3>\"\u001b[0;36m, line \u001b[0;32m3\u001b[0m\n\u001b[0;31m    print(season'月是春天!')\u001b[0m\n\u001b[0m                      ^\u001b[0m\n\u001b[0;31mSyntaxError\u001b[0m\u001b[0;31m:\u001b[0m invalid syntax\n"
          ]
        }
      ]
    },
    {
      "cell_type": "code",
      "source": [
        "income=int(input('請輸入今年收入淨額:'))\n",
        "if (income>=300000):\n",
        "  if(income>=2000000):\n",
        "    print('付稅金額:',income*0.3,end='元\\n')\n",
        "  elif(income>=1000000):\n",
        "    print('付稅金額:',income*0.21,end='元\\n')\n",
        "  elif(income>=600000):\n",
        "    print('付稅金額:',income*0.13,end='元\\n')\n",
        "  else:\n",
        "    print('付稅金額:',money*0.06,end='元\\n')\n",
        "else:\n",
        "  print('付稅金額:0元')\n"
      ],
      "metadata": {
        "id": "1WMeflqDHiof",
        "colab": {
          "base_uri": "https://localhost:8080/"
        },
        "outputId": "2a5a0d56-9cbf-49fe-b1dc-50ffd47260f0"
      },
      "execution_count": null,
      "outputs": [
        {
          "output_type": "stream",
          "name": "stdout",
          "text": [
            "請輸入今年收入淨額:2000000\n",
            "付稅金額: 600000.0元\n"
          ]
        }
      ]
    }
  ]
}